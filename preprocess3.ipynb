{
 "cells": [
  {
   "cell_type": "code",
   "execution_count": 29,
   "metadata": {},
   "outputs": [],
   "source": [
    "import datetime\n",
    "import pandas as pd\n",
    "import matplotlib.pyplot as plt \n",
    "from sklearn.model_selection import train_test_split \n",
    "import os \n",
    "import parmap \n",
    "import json  \n",
    "import glob\n",
    "import numpy as np\n",
    "import pandas as pd \n",
    "from PIL import Image "
   ]
  },
  {
   "cell_type": "code",
   "execution_count": 30,
   "metadata": {},
   "outputs": [],
   "source": [
    "root_path = '/data/output_20231211' # 루트 경로\n",
    "\n",
    "raw_image_path = f'{root_path}/원천데이터/' # 이미지 경로 \n",
    "raw_scene_path = f'{root_path}/라벨링데이터/20231211_output_kg.json' # 장면 그래프 경로 \n",
    "raw_qa_path = f'{root_path}/라벨링데이터/gqa_json_all_in_one.json'# 질의응답 경로\n",
    "pretrain_scene_list_path = 'pretrain_model/pretrain_scene_list.csv' \n",
    "                                  \n",
    "image_pickle_path = f'{root_path}/가공데이터/' # pkl로 변환된 이미지가 저장될 폴더\n",
    "os.makedirs(image_pickle_path, exist_ok=True)"
   ]
  },
  {
   "cell_type": "code",
   "execution_count": 9,
   "metadata": {},
   "outputs": [
    {
     "name": "stdout",
     "output_type": "stream",
     "text": [
      "CPU times: user 9 µs, sys: 0 ns, total: 9 µs\n",
      "Wall time: 17.4 µs\n"
     ]
    }
   ],
   "source": [
    "def read_json_from_file(file_path):\n",
    "    \"\"\"\n",
    "    주어진 파일 경로에서 JSON 파일을 읽고 파이썬 객체로 반환합니다.\n",
    "    :param file_path: 읽을 파일의 경로\n",
    "    :return: JSON 데이터를 포함한 파이썬 객체\n",
    "    \"\"\"\n",
    "    with open(file_path, 'r', encoding='utf-8') as file:\n",
    "        return json.load(file)\n",
    "\n",
    "%time\n",
    "def load_and_format_scene_graph_data(raw_scene_path):\n",
    "    \"\"\"\n",
    "    장면 그래프 데이터를 로드하고 메인 데이터프레임을 생성합니다.\n",
    "    :param raw_scene_path: 장면 그래프 JSON 파일 경로\n",
    "    :return: 생성된 메인 데이터프레임\n",
    "    \"\"\"\n",
    "    data = read_json_from_file(raw_scene_path)\n",
    "    df_main = pd.DataFrame(data)\n",
    "    return df_main \n",
    " \n",
    "# 질의응답 데이터프레임으로 변환\n",
    "def json_to_dataframe(json_data):\n",
    "    # 데이터프레임을 만들기 위한 빈 리스트\n",
    "    df_list = []\n",
    "\n",
    "    # JSON 데이터를 순회하면서 필요한 정보 추출\n",
    "    for qa_data in json_data:\n",
    "        scene_id = qa_data['Scene_Graph_ID']\n",
    "        for qa in qa_data['QA_list']:\n",
    "            df_list.append({\n",
    "                'sceneId': scene_id,\n",
    "                'QA_ID': qa['QA_ID'],\n",
    "                'question': qa['question'],\n",
    "                'answer': qa['answer'],\n",
    "                'question_type': ', '.join(qa['question_type']),\n",
    "                'answer_type': qa['answer_type']\n",
    "            })\n",
    "    # 리스트를 데이터프레임으로 변환\n",
    "    return pd.DataFrame(df_list) \n",
    "\n",
    "df_main  = load_and_format_scene_graph_data(raw_scene_path)"
   ]
  },
  {
   "cell_type": "code",
   "execution_count": 10,
   "metadata": {},
   "outputs": [
    {
     "name": "stdout",
     "output_type": "stream",
     "text": [
      "Json 로드 소요 시간 :  0:00:16.852500\n"
     ]
    }
   ],
   "source": [
    "# 질의응답 JSON 파일을 로드하고 데이터프레임으로 변환한 후, 메인 데이터프레임과 병합\n",
    "\n",
    "start = datetime.datetime.now() #셀 시작시간 측정 \n",
    "json_file = read_json_from_file(raw_qa_path)\n",
    "all_df = json_to_dataframe(json_file)\n",
    "all_df = all_df[['sceneId','QA_ID', 'question', 'answer', 'question_type', 'answer_type']]\n",
    "all_df.rename({'sceneId' :'Scene_Graph_ID'}, axis = 1, inplace = True)  \n",
    "all_df = all_df[all_df['answer_type'] == 'full_answer']\n",
    "\n",
    "# 메인 데이터프레임과 병합\n",
    "all_df = pd.merge(all_df, df_main[['Scene_Graph_ID', 'Category',]]) \n",
    "all_df = all_df[['Scene_Graph_ID','Category', 'question', 'answer']] \n",
    "\n",
    "all_df['image_path'] = all_df['Category'].apply(lambda x:raw_image_path+x) \n",
    "all_df['image_path'] = all_df['image_path'] + '/' + all_df['Scene_Graph_ID']+ '.jpg' \n",
    "all_df['path'] = image_pickle_path + all_df['Scene_Graph_ID']+ '.jpg'\n",
    "end = datetime.datetime.now()\n",
    "sec = (end - start)\n",
    "print('Json 로드 소요 시간 : ',str(sec))"
   ]
  },
  {
   "cell_type": "code",
   "execution_count": 11,
   "metadata": {},
   "outputs": [
    {
     "name": "stdout",
     "output_type": "stream",
     "text": [
      "(75495, 6)\n",
      "(75495, 6)\n"
     ]
    }
   ],
   "source": [
    "print(all_df.shape)\n",
    "all_df = all_df.dropna(subset='answer') \n",
    "all_df = all_df[all_df['answer'] != ''] \n",
    "all_df = all_df[all_df['question'] != '']  \n",
    "print(all_df.shape)"
   ]
  },
  {
   "cell_type": "code",
   "execution_count": null,
   "metadata": {},
   "outputs": [],
   "source": [
    "# 데이터를 Train/Validation/Test로 나누는 과정\n",
    "# 1. 유니크 이미지 식별\n",
    "# 2. 이미지 기반 데이터 분할 : 식별된 유니크한 이미지들을 Train/Validation/Test 세트로 나누고, 이미지를 기반으로 질문/답변 데이터를 나눔"
   ]
  },
  {
   "cell_type": "code",
   "execution_count": 31,
   "metadata": {},
   "outputs": [],
   "source": [
    "# pretrain에 사용한 scene_graph_id 목록\n",
    "pretrain_scene_list = pd.read_csv(pretrain_scene_list_path, index_col=0)\n",
    "pretrain_scene_list = pretrain_scene_list['image_id'].unique()"
   ]
  },
  {
   "cell_type": "code",
   "execution_count": 40,
   "metadata": {},
   "outputs": [
    {
     "data": {
      "text/plain": [
       "(75495,)"
      ]
     },
     "execution_count": 40,
     "metadata": {},
     "output_type": "execute_result"
    }
   ],
   "source": [
    "unique_image_list.shape"
   ]
  },
  {
   "cell_type": "code",
   "execution_count": 45,
   "metadata": {},
   "outputs": [
    {
     "data": {
      "text/plain": [
       "(75494,)"
      ]
     },
     "execution_count": 45,
     "metadata": {},
     "output_type": "execute_result"
    }
   ],
   "source": [
    "unique_image_list[~np.isin(unique_image_list, ['1010100060120230808142009'])].shape"
   ]
  },
  {
   "cell_type": "code",
   "execution_count": null,
   "metadata": {},
   "outputs": [],
   "source": [
    "# pretrain에 사용한 scene_graph_id 목록\n",
    "pretrain_scene_list = pd.read_csv(pretrain_scene_list_path, index_col=0)\n",
    "pretrain_scene_list = pretrain_scene_list['image_id'].unique()\n",
    "\n",
    "# 전체 질의응답의 scene_graph_id 목록\n",
    "unique_image_list = all_df.Scene_Graph_ID.unique() \n",
    "\n",
    "print('pretrain_scene_list',pretrain_scene_list.shape[0])\n",
    "print('unique_image_list',unique_image_list.shape[0])\n",
    "\n",
    "# pretrain 데이터가 전체 데이터의 80% 이상인 경우\n",
    "if pretrain_scene_list.shape[0] > unique_image_list.shape[0]*0.8: \n",
    "    print('pretrain 데이터가 전체 데이터의 80% 초과')\n",
    "    train_img_list = pretrain_scene_list\n",
    "    val_and_test = unique_image_list[~np.isin(unique_image_list,train_img_list)]\n",
    "    valid_img_list,test_img_list = train_test_split(val_and_test,test_size=0.5,random_state=22)\n",
    "    print('train_img_list', train_img_list.shape[0])\n",
    "    print('valid_img_list', valid_img_list.shape[0])\n",
    "    print('test_img_list', test_img_list.shape[0])\n",
    "    \n",
    "# pretrain 데이터가 전체 데이터의 80% 미만인 경우\n",
    "else:\n",
    "    # pretrain 데이터가 전체 데이터의 80% 미만인 경우\n",
    "    # 전체 데이터에서 pretrain 데이터를 제외한 나머지 데이터\n",
    "    remaining_data = unique_image_list[~np.isin(unique_image_list, pretrain_scene_list)]\n",
    "    # train 세트에 필요한 추가 데이터의 양 계산\n",
    "    additional_train_len = int(len(unique_image_list) * 0.8) - len(pretrain_scene_list)\n",
    "    # 추가 train 데이터 선택\n",
    "    additional_train_data, remaining_after_train = train_test_split(remaining_data, train_size=additional_train_len, random_state=22)\n",
    "    # 남은 데이터를 검증과 테스트 세트로 나눔\n",
    "    valid_img_list, test_img_list = train_test_split(remaining_after_train, test_size=0.5, random_state=22)\n",
    "    # train 세트는 pretrain 데이터와 추가 train 데이터를 합쳐서 구성\n",
    "    train_img_list = np.concatenate((pretrain_scene_list, additional_train_data))\n",
    "\n",
    "# 결과 출력\n",
    "print('train_img_list', train_img_list.shape[0])\n",
    "print('valid_img_list', valid_img_list.shape[0])\n",
    "print('test_img_list', test_img_list.shape[0])"
   ]
  },
  {
   "cell_type": "code",
   "execution_count": null,
   "metadata": {},
   "outputs": [],
   "source": [
    "train_x = all_df[all_df['Scene_Graph_ID'].isin(train_img_list)] \n",
    "valid_x = all_df[all_df['Scene_Graph_ID'].isin(valid_img_list)] \n",
    "test_x = all_df[all_df['Scene_Graph_ID'].isin(test_img_list)]"
   ]
  },
  {
   "cell_type": "code",
   "execution_count": null,
   "metadata": {},
   "outputs": [],
   "source": [
    "print(train_x.shape)\n",
    "print(valid_x.shape)\n",
    "print(test_x.shape)"
   ]
  },
  {
   "cell_type": "code",
   "execution_count": null,
   "metadata": {},
   "outputs": [],
   "source": [
    "train_x.to_csv('./train.csv') \n",
    "valid_x.to_csv('./valid.csv')\n",
    "test_x.to_csv('./test.csv')"
   ]
  },
  {
   "cell_type": "code",
   "execution_count": null,
   "metadata": {},
   "outputs": [],
   "source": [
    "num_cores = os.cpu_count()"
   ]
  },
  {
   "cell_type": "markdown",
   "metadata": {},
   "source": [
    "# 이미지 pkl로 저장"
   ]
  },
  {
   "cell_type": "code",
   "execution_count": null,
   "metadata": {},
   "outputs": [],
   "source": [
    "import pickle\n",
    "def process_and_save_image(args):\n",
    "    \"\"\"\n",
    "    이미지 경로를 입력받아, 이미지를 로드하고 결과를 .pkl 파일로 저장합니다.\n",
    "\n",
    "    Parameters:\n",
    "    - image_path (str): 처리할 이미지의 파일 경로.\n",
    "    - save_path (str): 결과를 저장할 .pkl 파일의 경로.\n",
    "    \"\"\" \n",
    "    try:\n",
    "        image_path, save_path = args\n",
    "        # 이미지 로드\n",
    "        image = Image.open(image_path).convert('RGB')\n",
    "        \n",
    "        # 결과를 pkl 파일로 저장\n",
    "        with open(save_path, 'wb') as f:\n",
    "            pickle.dump(image, f) \n",
    "\n",
    "    except Exception as e:\n",
    "        print(f\"Error processing image {image_path}: {str(e)}\")        "
   ]
  },
  {
   "cell_type": "code",
   "execution_count": null,
   "metadata": {},
   "outputs": [],
   "source": [
    "image_list = all_df['image_path'] \n",
    "image_pkl_list = list(map(lambda x : image_pickle_path+x.split('/')[-1].replace('.jpg','.pkl'), image_list))"
   ]
  },
  {
   "cell_type": "code",
   "execution_count": null,
   "metadata": {},
   "outputs": [],
   "source": [
    "parmap.map(process_and_save_image, list(zip(image_list, image_pkl_list)), pm_pbar=True, pm_processes=num_cores)\n",
    "end = datetime.datetime.now()\n",
    "sec = (end - start)\n",
    "print('총 이미지 개수 : ', len(image_list))\n",
    "print('총 소요 시간 : ',str(sec))"
   ]
  }
 ],
 "metadata": {
  "kernelspec": {
   "display_name": "Python 3",
   "language": "python",
   "name": "python3"
  },
  "language_info": {
   "codemirror_mode": {
    "name": "ipython",
    "version": 3
   },
   "file_extension": ".py",
   "mimetype": "text/x-python",
   "name": "python",
   "nbconvert_exporter": "python",
   "pygments_lexer": "ipython3",
   "version": "3.8.10"
  },
  "orig_nbformat": 4
 },
 "nbformat": 4,
 "nbformat_minor": 2
}
